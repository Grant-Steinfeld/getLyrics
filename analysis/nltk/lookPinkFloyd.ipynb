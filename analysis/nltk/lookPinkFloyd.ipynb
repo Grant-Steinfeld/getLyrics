{
 "cells": [
  {
   "cell_type": "code",
   "execution_count": 2,
   "metadata": {},
   "outputs": [],
   "source": [
    "import nltk\n",
    "from nltk import word_tokenize\n",
    "from nltk.probability import FreqDist\n",
    "from nltk.collocations import *"
   ]
  },
  {
   "cell_type": "code",
   "execution_count": 3,
   "metadata": {},
   "outputs": [
    {
     "name": "stdout",
     "output_type": "stream",
     "text": [
      "http://www.nltk.org/howto/collocations.html\n"
     ]
    }
   ],
   "source": [
    "print 'http://www.nltk.org/howto/collocations.html'"
   ]
  },
  {
   "cell_type": "code",
   "execution_count": 16,
   "metadata": {},
   "outputs": [],
   "source": [
    "f = open('../../corpi/allCatted/pink_floydAll.txt')"
   ]
  },
  {
   "cell_type": "code",
   "execution_count": 17,
   "metadata": {},
   "outputs": [],
   "source": [
    "raw = f.read()"
   ]
  },
  {
   "cell_type": "code",
   "execution_count": 18,
   "metadata": {},
   "outputs": [],
   "source": [
    "raw = raw.decode('utf-8')"
   ]
  },
  {
   "cell_type": "code",
   "execution_count": 19,
   "metadata": {},
   "outputs": [],
   "source": [
    "tokens = word_tokenize(raw)"
   ]
  },
  {
   "cell_type": "code",
   "execution_count": 20,
   "metadata": {},
   "outputs": [],
   "source": [
    "finder = BigramCollocationFinder.from_words(tokens)"
   ]
  },
  {
   "cell_type": "code",
   "execution_count": 21,
   "metadata": {},
   "outputs": [
    {
     "data": {
      "text/plain": [
       "<nltk.collocations.BigramCollocationFinder at 0x10dde6cd0>"
      ]
     },
     "execution_count": 21,
     "metadata": {},
     "output_type": "execute_result"
    }
   ],
   "source": [
    "finder"
   ]
  },
  {
   "cell_type": "code",
   "execution_count": 22,
   "metadata": {},
   "outputs": [
    {
     "data": {
      "text/plain": [
       "[u'Poles',\n",
       " u'Apart',\n",
       " u'lyrics',\n",
       " u'Did',\n",
       " u'you',\n",
       " u'know',\n",
       " u'...',\n",
       " u'it',\n",
       " u'was',\n",
       " u'all']"
      ]
     },
     "execution_count": 22,
     "metadata": {},
     "output_type": "execute_result"
    }
   ],
   "source": [
    "tokens[:10]"
   ]
  },
  {
   "cell_type": "code",
   "execution_count": 23,
   "metadata": {},
   "outputs": [],
   "source": [
    "text = nltk.Text(tokens)"
   ]
  },
  {
   "cell_type": "code",
   "execution_count": 24,
   "metadata": {},
   "outputs": [
    {
     "data": {
      "text/plain": [
       "nltk.text.Text"
      ]
     },
     "execution_count": 24,
     "metadata": {},
     "output_type": "execute_result"
    }
   ],
   "source": [
    "type(text)"
   ]
  },
  {
   "cell_type": "code",
   "execution_count": 25,
   "metadata": {},
   "outputs": [
    {
     "data": {
      "text/plain": [
       "[u'very',\n",
       " u'small',\n",
       " u'.',\n",
       " u'Warm',\n",
       " u'glow',\n",
       " u',',\n",
       " u'Moon',\n",
       " u'glow',\n",
       " u',',\n",
       " u'Always',\n",
       " u'need',\n",
       " u'a',\n",
       " u'little',\n",
       " u'more',\n",
       " u'room',\n",
       " u'.',\n",
       " u'Waiting',\n",
       " u'here',\n",
       " u',',\n",
       " u'Seems',\n",
       " u'like',\n",
       " u'years',\n",
       " u',',\n",
       " u'Never',\n",
       " u'see',\n",
       " u'the',\n",
       " u'light',\n",
       " u'of',\n",
       " u'day',\n",
       " u'.',\n",
       " u'All',\n",
       " u'around',\n",
       " u'I',\n",
       " u'hear',\n",
       " u'strange',\n",
       " u'sounds',\n",
       " u'Come',\n",
       " u'gurgling']"
      ]
     },
     "execution_count": 25,
     "metadata": {},
     "output_type": "execute_result"
    }
   ],
   "source": [
    "text[1024:1062]"
   ]
  },
  {
   "cell_type": "code",
   "execution_count": 26,
   "metadata": {},
   "outputs": [
    {
     "name": "stdout",
     "output_type": "stream",
     "text": [
      "'ve got; 're nearly; Arnold Layne; silence stands; King Bee; little\n",
      "bit; nah nah; Swan Lee; Corporal Clegg; arnold layne; Scream thy;\n",
      "little girl; Mrs. Clegg; icy waters; thy last; Oooo Babe; gigolo aunt;\n",
      "one world; night long; last scream\n"
     ]
    }
   ],
   "source": [
    "text.collocations()"
   ]
  },
  {
   "cell_type": "code",
   "execution_count": 28,
   "metadata": {},
   "outputs": [
    {
     "name": "stdout",
     "output_type": "stream",
     "text": [
      "Displaying 25 of 34 matches:\n",
      "ks They 're gon na send you back to mother In a cardboard box You better run .\n",
      "m and me alone '' Baaaaaabe Come to mother baby let me hold you in my arms M'r\n",
      "them suffer Your exquisite wife and mother Fills me with an urge to defecate S\n",
      "ry lives . And old King George Sent Mother a note When he heard that father wa\n",
      "icy waters underground . Atom Heart Mother Suite lyrics Lime and limpid green \n",
      "ye , blue sky . Goodbye . Goodbye . Mother Mother , do you think they 'll drop\n",
      "ue sky . Goodbye . Goodbye . Mother Mother , do you think they 'll drop the bo\n",
      " you think they 'll drop the bomb ? Mother , do you think they 'll like this s\n",
      "you think they 'll like this song ? Mother , do you think they 'll try to brea\n",
      "ll try to break my balls ? Ooooowaa Mother , should I build a wall ? Mother , \n",
      "aa Mother , should I build a wall ? Mother , should I run for President ? Moth\n",
      "ther , should I run for President ? Mother , should I trust the government ? M\n",
      "r , should I trust the government ? Mother , will they put me in the firing li\n",
      "Momma 's gon na help build a wall . Mother , do you think she 's good enough ,\n",
      "think she 's good enough , For me ? Mother , do you think she 's dangerous , T\n",
      "ou think she 's dangerous , To me ? Mother will she tear your little boy apart\n",
      "ar your little boy apart ? Ooooowaa Mother , will she break my heart ? Hush , \n",
      "be , you 'll always be Baby to me . Mother , did it need to be so high ? . Tim\n",
      "ut you , Lucy Yeah ! Go . . Matilda Mother lyrics There was a king who ruled t\n",
      "e Showers silver on the people . Oh Mother , tell me more . Why'd'ya have to l\n",
      "Clouds of sunlight floating by . Oh Mother , tell me more Tell me more . Aaaaa\n",
      "ow , but we sorted the matter out . Mother lyrics Mother , do you think they '\n",
      "rted the matter out . Mother lyrics Mother , do you think they 'll drop the bo\n",
      " you think they 'll drop the bomb ? Mother , do you think they 'll like this s\n",
      "you think they 'll like this song ? Mother , do you think they 'll try to brea\n"
     ]
    }
   ],
   "source": [
    "text.concordance(\"mother\")"
   ]
  },
  {
   "cell_type": "code",
   "execution_count": 27,
   "metadata": {},
   "outputs": [
    {
     "data": {
      "text/plain": [
       "nltk.probability.FreqDist"
      ]
     },
     "execution_count": 27,
     "metadata": {},
     "output_type": "execute_result"
    }
   ],
   "source": [
    "FreqDist"
   ]
  },
  {
   "cell_type": "code",
   "execution_count": 28,
   "metadata": {},
   "outputs": [],
   "source": [
    "fdist = FreqDist()"
   ]
  },
  {
   "cell_type": "code",
   "execution_count": 50,
   "metadata": {},
   "outputs": [],
   "source": [
    "fdist = FreqDist(word.lower() for word in word_tokenize(raw) if len(word)>9 and  not word.startswith('title'))"
   ]
  },
  {
   "cell_type": "code",
   "execution_count": 51,
   "metadata": {
    "collapsed": true
   },
   "outputs": [
    {
     "data": {
      "text/plain": [
       "[('everything', 12),\n",
       " ('understand', 10),\n",
       " ('frightened', 6),\n",
       " ('underground', 6),\n",
       " ('unreleased', 5),\n",
       " ('remembering', 5),\n",
       " ('supermarket', 4),\n",
       " ('comfortably', 4),\n",
       " (\"ev'rything\", 4),\n",
       " ('battleground', 3),\n",
       " ('whitehouse', 3),\n",
       " ('kingfisher', 3),\n",
       " ('flickering', 3),\n",
       " ('irresistible', 3),\n",
       " ('tongue-tied', 3),\n",
       " ('disappears', 3),\n",
       " ('earth-bound', 3),\n",
       " ('chattering', 2),\n",
       " ('photographs', 2),\n",
       " ('government', 2),\n",
       " ('pretending', 2),\n",
       " ('hoooooooooray', 2),\n",
       " ('surrounded', 2),\n",
       " ('nightmares', 2),\n",
       " ('dedication', 2),\n",
       " ('instrumental', 2),\n",
       " ('accomplished', 2),\n",
       " ('gingerbread', 2),\n",
       " ('desparation', 2),\n",
       " ('confronted', 2),\n",
       " ('themselves', 2),\n",
       " ('sweetheart', 2),\n",
       " ('churchyard', 2),\n",
       " ('undergrowth', 2),\n",
       " ('girlfriends', 2),\n",
       " ('misunderstands', 2),\n",
       " ('collecting', 2),\n",
       " ('information', 2),\n",
       " ('straight..into', 2),\n",
       " ('exceedingly', 2),\n",
       " ('everywhere', 2),\n",
       " ('grasshoppers', 2),\n",
       " ('background', 1),\n",
       " ('knees.well', 1),\n",
       " ('glitterati', 1),\n",
       " ('thesegotta', 1),\n",
       " ('capitulate', 1),\n",
       " ('helicopters', 1),\n",
       " ('expendable', 1),\n",
       " ('vietnamese', 1)]"
      ]
     },
     "execution_count": 51,
     "metadata": {},
     "output_type": "execute_result"
    }
   ],
   "source": [
    "fdist.most_common(50)"
   ]
  },
  {
   "cell_type": "code",
   "execution_count": 31,
   "metadata": {},
   "outputs": [
    {
     "data": {
      "text/plain": [
       "'the'"
      ]
     },
     "execution_count": 31,
     "metadata": {},
     "output_type": "execute_result"
    }
   ],
   "source": [
    "fdist.max()"
   ]
  },
  {
   "cell_type": "code",
   "execution_count": 8,
   "metadata": {},
   "outputs": [],
   "source": [
    "from nltk.collocations import *"
   ]
  },
  {
   "cell_type": "code",
   "execution_count": 9,
   "metadata": {},
   "outputs": [],
   "source": [
    "bigram_measures = nltk.collocations.BigramAssocMeasures()"
   ]
  },
  {
   "cell_type": "code",
   "execution_count": 10,
   "metadata": {},
   "outputs": [],
   "source": [
    "trigram_measures = nltk.collocations.TrigramAssocMeasures()"
   ]
  },
  {
   "cell_type": "code",
   "execution_count": 14,
   "metadata": {},
   "outputs": [
    {
     "data": {
      "text/plain": [
       "[('Air', 'Breathe'),\n",
       " ('American', 'tour'),\n",
       " ('Anzio', 'bridgehead'),\n",
       " ('CALL', 'THE'),\n",
       " ('Catfish', 'dappled'),\n",
       " ('Chalk', 'underfoot'),\n",
       " ('Childish', 'bangles'),\n",
       " ('Clare', 'Torry'),\n",
       " ('Colour', 'Heavy'),\n",
       " ('Command', 'Took'),\n",
       " ('Company', 'C.'),\n",
       " ('Condition', 'grounded'),\n",
       " ('Crisp', 'flax'),\n",
       " ('Current', 'Bun'),\n",
       " ('Daddys', 'Flown'),\n",
       " ('Daily', 'Standard'),\n",
       " ('David', 'Gilmour/Polly'),\n",
       " ('Different', 'Ones'),\n",
       " ('Dogfish', 'puffing'),\n",
       " ('Family', 'Album'),\n",
       " ('Fletcher', 'Memorial'),\n",
       " ('Furry', 'Animals'),\n",
       " ('Fusiliers', 'Company'),\n",
       " ('George', 'Sent'),\n",
       " ('Gilmour/Polly', 'Samson'),\n",
       " ('Grimble', 'Grumble'),\n",
       " ('Grows', 'sharper'),\n",
       " ('Happiest', 'Days'),\n",
       " ('Hendrix', 'perm'),\n",
       " ('High', 'Command'),\n",
       " ('Invisible', 'transfers'),\n",
       " ('Jennifer', 'Gentle'),\n",
       " ('June', 'bloom'),\n",
       " ('Lear', 'jet'),\n",
       " ('Looks', 'allright'),\n",
       " ('Manuel', 'Leaf'),\n",
       " ('March', 'cheerfully'),\n",
       " ('Meadows', 'Icy'),\n",
       " ('Meal', 'bakery'),\n",
       " ('Morning', 'dues'),\n",
       " ('Number', '51'),\n",
       " ('Oooooh', 'aah'),\n",
       " ('Piece', 'Bath'),\n",
       " ('Possible', 'Pasts'),\n",
       " ('Race', 'rats'),\n",
       " ('Roman', 'Meal'),\n",
       " ('Royal', 'Fusiliers'),\n",
       " ('Saw', 'Marigolds'),\n",
       " ('Selling', 'colored'),\n",
       " ('Small', 'Furry'),\n",
       " ('Stand', 'Still'),\n",
       " ('Still', 'Laddie'),\n",
       " ('Suspended', 'animation'),\n",
       " ('THE', 'SCHOOLMASTER'),\n",
       " ('Them', 'Us'),\n",
       " ('Three', 'Different'),\n",
       " ('Thunderbird', 'shale'),\n",
       " ('Tigers', 'Broke'),\n",
       " ('Within', 'inches'),\n",
       " ('Ye', 'rotten'),\n",
       " ('accord', 'using'),\n",
       " ('adventure', 'Amidst'),\n",
       " ('albatross', 'hangs'),\n",
       " ('aloud', 'Extinguished'),\n",
       " ('amazing', 'powers'),\n",
       " ('anonymous', 'latin'),\n",
       " ('armadillo', 'Find'),\n",
       " ('avengers', 'March'),\n",
       " ('awash', 'An'),\n",
       " ('awayPay', 'dayMake'),\n",
       " ('awfully', 'considerate'),\n",
       " ('beads', 'Rock'),\n",
       " ('bled', 'Pain'),\n",
       " ('bloom', 'Music'),\n",
       " ('board', 'Everyday'),\n",
       " ('bombGet', 'awayPay'),\n",
       " ('bread', 'Underfed'),\n",
       " ('building', 'ships'),\n",
       " ('bullet', 'proof'),\n",
       " ('burnie', 'crew'),\n",
       " ('buttercups', 'cup'),\n",
       " ('candle', 'dies'),\n",
       " ('cattle', 'trucks'),\n",
       " ('ceaseless', 'murmuring'),\n",
       " ('ceiling', 'Living'),\n",
       " ('chamber', 'reserved'),\n",
       " ('cheap', 'hotel'),\n",
       " ('circuit', 't.v'),\n",
       " ('class', 'traveling'),\n",
       " ('clickHold', 'onOh'),\n",
       " ('clickity', 'click'),\n",
       " ('cockleshell', 'shattens'),\n",
       " ('colonial', 'wasters'),\n",
       " ('coloured', 'cousins'),\n",
       " ('committing', 'suicide'),\n",
       " ('confirm', 'suspicions'),\n",
       " ('confused', 'Sometimes'),\n",
       " ('contract', 'diseases'),\n",
       " ('coral', 'caves'),\n",
       " ('courtiers', 'crowded')]"
      ]
     },
     "execution_count": 14,
     "metadata": {},
     "output_type": "execute_result"
    }
   ],
   "source": [
    "finder.nbest(bigram_measures.pmi, 100)"
   ]
  },
  {
   "cell_type": "code",
   "execution_count": 15,
   "metadata": {},
   "outputs": [],
   "source": [
    "finder.apply_freq_filter(3)"
   ]
  },
  {
   "cell_type": "code",
   "execution_count": 18,
   "metadata": {},
   "outputs": [
    {
     "data": {
      "text/plain": [
       "[('Ancient', 'bonds'),\n",
       " ('Cast', 'aside'),\n",
       " ('Change', 'returns'),\n",
       " ('Narrow', 'Way'),\n",
       " ('earth-bound', 'misfit'),\n",
       " ('returns', 'success'),\n",
       " ('sliding', 'unseen'),\n",
       " ('currant', 'bun'),\n",
       " ('supermarket', 'stores'),\n",
       " ('quick', 'grin'),\n",
       " ('success', 'Going'),\n",
       " ('Gravy', 'Train'),\n",
       " ('scrubbing', 'bubbles'),\n",
       " ('velvet', 'trousers'),\n",
       " ('Magic', 'visions'),\n",
       " ('kingfisher', 'flashing'),\n",
       " ('Almost', 'worth'),\n",
       " ('Blam', 'blam'),\n",
       " ('Ice', 'cream'),\n",
       " ('Stolen', 'moments'),\n",
       " ('ah', 'ooh'),\n",
       " ('barley', 'grows'),\n",
       " ('climbing', 'higher'),\n",
       " ('gigolo', 'aunt'),\n",
       " ('hot', 'stuff'),\n",
       " ('rat', 'bag'),\n",
       " ('madcap', 'laughed'),\n",
       " ('Pig', 'stain'),\n",
       " ('human', 'race'),\n",
       " ('king', 'bee'),\n",
       " ('Action', 'brings'),\n",
       " ('Whisper', 'low'),\n",
       " ('fat', 'chin'),\n",
       " ('gilded', 'cage'),\n",
       " ('musk', 'winds'),\n",
       " ('arms', 'madly'),\n",
       " ('casket', 'Blam'),\n",
       " ('Bus', 'stop'),\n",
       " ('circling', 'skies'),\n",
       " ('skies', 'Tongue-tied'),\n",
       " ('stop', 'rat'),\n",
       " ('changing', 'sides'),\n",
       " ('dog', 'fox'),\n",
       " ('floating', 'softly'),\n",
       " ('visions', 'stirring'),\n",
       " ('dreamboat', 'queen'),\n",
       " ('icy', 'waters'),\n",
       " ('pig', 'bin'),\n",
       " ('track', \"'cause\"),\n",
       " ('waters', 'underground'),\n",
       " ('well', 'heeled'),\n",
       " ('Oooh', 'Ma'),\n",
       " ('Oooh', 'Pa'),\n",
       " ('Scream', 'thy'),\n",
       " ('fours', 'Scream'),\n",
       " ('till', 'tomorrow'),\n",
       " ('aching', 'limbs'),\n",
       " ('moments', 'floating'),\n",
       " ('music', 'played'),\n",
       " ('unseen', 'beneath'),\n",
       " ('without', 'error'),\n",
       " ('Summer', 'evening'),\n",
       " ('crazy', 'diamond'),\n",
       " ('arnold', 'layne'),\n",
       " ('Flickering', 'between'),\n",
       " ('Saying', '``'),\n",
       " ('burning', 'gladly'),\n",
       " ('special', 'thing'),\n",
       " ('title=King', 'Bee'),\n",
       " ('Come', 'gurgling'),\n",
       " ('evil', 'tide'),\n",
       " ('new', 'Compared'),\n",
       " ('ship', 'smoke'),\n",
       " ('heavenly', 'ride'),\n",
       " ('heeled', 'big'),\n",
       " ('octopus', 'ride'),\n",
       " ('Ma', 'Oooh'),\n",
       " ('golden', 'hair'),\n",
       " ('Moon', 'glow'),\n",
       " ('Bridges', 'burning'),\n",
       " ('burning', 'flames'),\n",
       " ('second', 'scene'),\n",
       " ('seen', 'Only'),\n",
       " ('bit', 'Before'),\n",
       " ('even', 'less'),\n",
       " ('pig', 'mine'),\n",
       " ('ta', 'stem'),\n",
       " ('King', 'Bee'),\n",
       " ('Swan', 'Lee'),\n",
       " ('distant', 'ship'),\n",
       " ('quack', 'quack'),\n",
       " ('Free', 'games'),\n",
       " ('flames', 'rise'),\n",
       " ('Warm', 'glow'),\n",
       " ('Arnold', 'Layne'),\n",
       " ('Swan', 'lee'),\n",
       " ('nah', 'nah'),\n",
       " ('Corporal', 'Clegg'),\n",
       " ('Mrs.', 'Clegg'),\n",
       " ('big', 'wheel')]"
      ]
     },
     "execution_count": 18,
     "metadata": {},
     "output_type": "execute_result"
    }
   ],
   "source": [
    "finder.nbest(bigram_measures.pmi, 100)"
   ]
  },
  {
   "cell_type": "code",
   "execution_count": 19,
   "metadata": {},
   "outputs": [],
   "source": [
    "finder.apply_freq_filter(2)"
   ]
  },
  {
   "cell_type": "code",
   "execution_count": 21,
   "metadata": {},
   "outputs": [],
   "source": [
    "ignored_words = nltk.corpus.stopwords.words('english')\n",
    "finder.apply_word_filter(lambda w: len(w) < 3 or w.lower() in ignored_words)"
   ]
  },
  {
   "cell_type": "code",
   "execution_count": 22,
   "metadata": {},
   "outputs": [],
   "source": [
    "finder.apply_word_filter(lambda w: len(w) < 3 or w.lower() in ignored_words)"
   ]
  },
  {
   "cell_type": "code",
   "execution_count": 24,
   "metadata": {},
   "outputs": [
    {
     "data": {
      "text/plain": [
       "[(\"'ve\", 'got'),\n",
       " (\"'re\", 'nearly'),\n",
       " ('silence', 'stands'),\n",
       " ('Arnold', 'Layne'),\n",
       " ('little', 'bit'),\n",
       " ('nah', 'nah'),\n",
       " ('Scream', 'thy'),\n",
       " ('arnold', 'layne'),\n",
       " ('little', 'girl'),\n",
       " ('Corporal', 'Clegg'),\n",
       " ('Mrs.', 'Clegg'),\n",
       " ('King', 'Bee'),\n",
       " ('icy', 'waters'),\n",
       " ('thy', 'last'),\n",
       " ('Oooo', 'Babe'),\n",
       " ('gigolo', 'aunt'),\n",
       " ('one', 'world'),\n",
       " ('night', 'long'),\n",
       " ('last', 'scream'),\n",
       " ('oranges', 'Apples'),\n",
       " ('Swan', 'Lee'),\n",
       " ('waters', 'underground'),\n",
       " ('Vegetable', 'man'),\n",
       " ('limpid', 'green'),\n",
       " ('aching', 'limbs'),\n",
       " ('scream', 'old'),\n",
       " ('octopus', 'ride'),\n",
       " ('fly', 'Point'),\n",
       " ('time', 'Cymbaline'),\n",
       " ('Moon', 'glow'),\n",
       " ('old', 'woman'),\n",
       " ('Warm', 'glow'),\n",
       " ('Free', 'games'),\n",
       " ('bit', 'Rest'),\n",
       " ('birds', 'calling'),\n",
       " ('play', 'Free'),\n",
       " ('currant', 'bun'),\n",
       " ('supermarket', 'stores'),\n",
       " ('Buzzing', 'around'),\n",
       " ('may', 'See'),\n",
       " ('See', 'Emily'),\n",
       " ('baby', 'lemonade'),\n",
       " ('Gravy', 'Train'),\n",
       " ('scrubbing', 'bubbles'),\n",
       " ('velvet', 'trousers'),\n",
       " ('last', 'summer'),\n",
       " ('hide', 'hide'),\n",
       " ('Ooo', 'Babe'),\n",
       " ('Emily', 'play'),\n",
       " ('Swan', 'lee'),\n",
       " ('Blam', 'blam'),\n",
       " ('Ice', 'cream'),\n",
       " ('Always', 'need'),\n",
       " (\"'re\", 'really'),\n",
       " ('king', 'bee'),\n",
       " ('madcap', 'laughed'),\n",
       " ('stands', '...'),\n",
       " ('meet', 'sometime'),\n",
       " ('arms', 'madly'),\n",
       " ('casket', 'Blam'),\n",
       " (\"n't\", 'touch'),\n",
       " ('better', 'run'),\n",
       " ('fours', 'Scream'),\n",
       " ('till', 'tomorrow'),\n",
       " ('one', 'day'),\n",
       " ('feeling', 'frail'),\n",
       " ('crazy', 'diamond'),\n",
       " ('far', 'away'),\n",
       " ('night', 'birds'),\n",
       " ('heavenly', 'ride'),\n",
       " ('eyes', 'beyond'),\n",
       " ('Ancient', 'bonds'),\n",
       " ('Cast', 'aside'),\n",
       " ('Change', 'returns'),\n",
       " ('Narrow', 'Way'),\n",
       " ('earth-bound', 'misfit'),\n",
       " ('returns', 'success'),\n",
       " ('sliding', 'unseen'),\n",
       " (\"n't\", 'delay'),\n",
       " (\"n't\", 'explain'),\n",
       " ('ship', 'smoke'),\n",
       " ('takes', 'two'),\n",
       " ('distant', 'ship'),\n",
       " ('quack', 'quack'),\n",
       " ('quick', 'grin'),\n",
       " ('success', 'Going'),\n",
       " ('high', 'time'),\n",
       " ('girl', 'Seen'),\n",
       " ('lips', 'move'),\n",
       " ('pointers', 'point'),\n",
       " ('Please', 'leave'),\n",
       " ('Magic', 'visions'),\n",
       " ('kingfisher', 'flashing'),\n",
       " ('day', 'Let'),\n",
       " (\"'ll\", 'lose'),\n",
       " ('madly', 'old'),\n",
       " ('Almost', 'worth'),\n",
       " ('Stolen', 'moments'),\n",
       " ('barley', 'grows'),\n",
       " ('climbing', 'higher')]"
      ]
     },
     "execution_count": 24,
     "metadata": {},
     "output_type": "execute_result"
    }
   ],
   "source": [
    "finder.nbest(bigram_measures.likelihood_ratio, 100)"
   ]
  },
  {
   "cell_type": "code",
   "execution_count": 25,
   "metadata": {},
   "outputs": [],
   "source": [
    "#tri grams\n",
    "finder = TrigramCollocationFinder.from_words(tokens)"
   ]
  },
  {
   "cell_type": "code",
   "execution_count": 26,
   "metadata": {},
   "outputs": [],
   "source": [
    "scored = finder.score_ngrams(trigram_measures.raw_freq)"
   ]
  },
  {
   "cell_type": "code",
   "execution_count": 27,
   "metadata": {},
   "outputs": [
    {
     "data": {
      "text/plain": [
       "True"
      ]
     },
     "execution_count": 27,
     "metadata": {},
     "output_type": "execute_result"
    }
   ],
   "source": [
    "set(trigram for trigram, score in scored) == set(nltk.trigrams(tokens))"
   ]
  },
  {
   "cell_type": "code",
   "execution_count": 30,
   "metadata": {},
   "outputs": [
    {
     "data": {
      "text/plain": [
       "[('!', '...', '..'),\n",
       " (\"'ll\", 'be', 'no'),\n",
       " (\"'ll\", 'lose', 'your'),\n",
       " (\"'m\", 'a', 'King'),\n",
       " (\"'m\", 'young', 'and'),\n",
       " (\"'re\", 'gon', 'na'),\n",
       " (\"'re\", 'nearly', 'a'),\n",
       " (\"'re\", 'really', 'a'),\n",
       " (\"'s\", 'gon', 'na'),\n",
       " (\"'s\", 'high', 'time'),\n",
       " (\"'s\", 'not', 'the'),\n",
       " (\"'s\", 'try', 'it'),\n",
       " (\"'ve\", 'got', 'a'),\n",
       " (\"'ve\", 'got', 'to'),\n",
       " ('(', 'Barrett', ')'),\n",
       " (',', 'Always', 'need'),\n",
       " (',', 'Arnold', 'Layne'),\n",
       " (',', 'Do', \"n't\"),\n",
       " (',', 'I', \"'d\"),\n",
       " (',', 'I', \"'m\"),\n",
       " (',', 'Moon', 'glow'),\n",
       " (',', 'You', \"'re\"),\n",
       " (',', 'ah', 'ooh'),\n",
       " (',', 'arnold', 'layne'),\n",
       " (',', 'charade', 'you'),\n",
       " (',', 'crash', ','),\n",
       " (',', 'do', \"n't\"),\n",
       " (',', 'do', 'you'),\n",
       " (',', 'ha', 'ha'),\n",
       " (',', 'it', \"'s\"),\n",
       " (',', 'little', 'girl'),\n",
       " (',', 'should', 'I'),\n",
       " (',', 'you', 'know'),\n",
       " ('-', 'a', '-'),\n",
       " ('-', 'away', '-'),\n",
       " ('-', 'be', '-'),\n",
       " ('.', '.', 'title=The'),\n",
       " ('.', 'And', 'if'),\n",
       " ('.', 'I', \"'ve\"),\n",
       " ('.', 'If', 'I'),\n",
       " ('.', 'Momma', \"'s\"),\n",
       " ('.', 'Oooo', 'Babe'),\n",
       " ('.', 'Warm', 'glow'),\n",
       " ('.', 'We', \"'re\"),\n",
       " ('.', 'You', \"'re\"),\n",
       " ('..', '!', '...'),\n",
       " ('...', '..', '!'),\n",
       " ('?', 'And', 'did'),\n",
       " ('?', 'Mother', ','),\n",
       " ('All', 'in', 'all'),\n",
       " ('All', 'that', 'you'),\n",
       " ('Always', 'need', 'a'),\n",
       " ('And', 'I', \"'ve\"),\n",
       " ('And', 'I', 'am'),\n",
       " ('And', 'if', 'you'),\n",
       " ('And', 'no', 'one'),\n",
       " ('And', 'you', 'know'),\n",
       " ('Apples', 'and', 'oranges'),\n",
       " ('Arnold', 'Layne', ','),\n",
       " ('Before', 'you', 'the'),\n",
       " ('But', 'you', \"'re\"),\n",
       " ('But', 'you', 'ca'),\n",
       " ('Buzzing', 'around', 'your'),\n",
       " ('Can', 'buzz', 'all'),\n",
       " ('Close', 'our', 'eyes'),\n",
       " ('Free', 'games', 'for'),\n",
       " ('Hey', 'ho', ','),\n",
       " ('Hey', 'you', '!'),\n",
       " ('I', \"'d\", 'be'),\n",
       " ('I', \"'m\", 'a'),\n",
       " ('I', \"'m\", 'feeling'),\n",
       " ('I', \"'m\", 'young'),\n",
       " ('I', \"'ve\", 'got'),\n",
       " ('I', 'ca', \"n't\"),\n",
       " ('I', 'do', \"n't\"),\n",
       " ('I', 'need', 'a'),\n",
       " ('I', 'were', 'a'),\n",
       " ('If', 'I', 'were'),\n",
       " ('Is', \"n't\", 'it'),\n",
       " ('It', \"'s\", 'not'),\n",
       " ('It', 'would', 'be'),\n",
       " ('Layne', ',', 'Arnold'),\n",
       " ('Let', \"'s\", 'try'),\n",
       " ('Lime', 'and', 'limpid'),\n",
       " ('Mary', 'you', \"'re\"),\n",
       " ('Momma', \"'s\", 'gon'),\n",
       " ('Moon', 'glow', ','),\n",
       " ('Mother', ',', 'do'),\n",
       " ('Mother', ',', 'should'),\n",
       " ('Mrs.', 'Clegg', ','),\n",
       " ('Oooo', 'Babe', '.'),\n",
       " ('Ooooo', 'I', 'need'),\n",
       " ('Please', 'leave', 'us'),\n",
       " ('Point', 'me', 'at'),\n",
       " ('Rest', 'your', 'aching'),\n",
       " ('Scream', 'thy', 'last'),\n",
       " ('See', 'Emily', 'play'),\n",
       " ('The', 'land', 'in'),\n",
       " ('There', \"'ll\", 'be'),\n",
       " ('There', 'is', 'no'),\n",
       " ('To', 'buzz', 'all'),\n",
       " ('Warm', 'glow', ','),\n",
       " ('Well', ',', 'I'),\n",
       " ('What', 'are', 'you'),\n",
       " ('What', 'do', 'you'),\n",
       " ('Why', 'ca', \"n't\"),\n",
       " ('Would', 'you', 'like'),\n",
       " ('You', \"'ll\", 'lose'),\n",
       " ('You', \"'re\", 'nearly'),\n",
       " ('You', 'got', 'ta'),\n",
       " ('You', 'hear', 'the'),\n",
       " ('a', '-', 'be'),\n",
       " ('a', '-', 'drink'),\n",
       " ('a', 'King', 'Bee'),\n",
       " ('a', 'cry', '.'),\n",
       " ('a', 'gigolo', 'aunt'),\n",
       " ('a', 'good', 'laugh'),\n",
       " ('a', 'laugh', 'But'),\n",
       " ('a', 'little', 'bit'),\n",
       " ('a', 'little', 'more'),\n",
       " ('able', 'To', 'buzz'),\n",
       " ('aching', 'limbs', 'for'),\n",
       " ('all', 'I', 'am'),\n",
       " ('all', 'night', 'long'),\n",
       " ('and', 'able', 'To'),\n",
       " ('and', 'limpid', 'green'),\n",
       " ('and', 'oranges', 'Apples'),\n",
       " ('and', 'play', 'Free'),\n",
       " ('and', 'tell', 'it'),\n",
       " ('another', 'way', 'You'),\n",
       " ('around', 'your', 'hive'),\n",
       " ('at', 'the', 'sky'),\n",
       " ('away', '-', 'away'),\n",
       " ('be', '-', 'a'),\n",
       " ('be', 'so', 'nice'),\n",
       " ('beckoning', 'And', 'you'),\n",
       " ('beyond', 'your', 'name'),\n",
       " ('birds', 'calling', 'you'),\n",
       " ('bit', 'Before', 'you'),\n",
       " ('bit', 'Rest', 'your'),\n",
       " ('buzz', 'all', 'night'),\n",
       " ('ca', \"n't\", 'be'),\n",
       " ('ca', \"n't\", 'delay'),\n",
       " ('ca', \"n't\", 'explain'),\n",
       " ('ca', \"n't\", 'touch'),\n",
       " ('calling', 'you', 'But'),\n",
       " ('charade', 'you', 'are'),\n",
       " ('day', 'Let', \"'s\"),\n",
       " ('delay', 'You', 'hear'),\n",
       " ('do', \"n't\", 'know'),\n",
       " ('do', 'you', 'feel'),\n",
       " ('do', 'you', 'think'),\n",
       " ('do', 'you', 'want'),\n",
       " ('down', 'in', 'the'),\n",
       " ('eyes', 'beyond', 'your'),\n",
       " ('eyes', 'to', 'the'),\n",
       " ('fly', 'Point', 'me'),\n",
       " ('for', 'a', 'little'),\n",
       " ('for', 'may', 'See'),\n",
       " ('games', 'for', 'may'),\n",
       " ('get', 'on', 'with'),\n",
       " ('glow', ',', 'Always'),\n",
       " ('glow', ',', 'Moon'),\n",
       " ('go', 'little', 'girl'),\n",
       " ('gon', 'na', 'keep'),\n",
       " ('got', 'to', 'get'),\n",
       " ('ha', ',', 'charade'),\n",
       " ('ha', 'charade', 'you'),\n",
       " ('ha', 'ha', ','),\n",
       " ('hear', 'the', 'night'),\n",
       " ('heart', 'of', 'the'),\n",
       " ('here', 'Close', 'our'),\n",
       " ('high', 'time', 'Cymbaline'),\n",
       " ('icy', 'waters', 'underground'),\n",
       " ('if', 'I', \"'m\"),\n",
       " ('if', 'you', 'want'),\n",
       " ('in', 'silence', 'stands'),\n",
       " ('in', 'the', 'pig'),\n",
       " ('in', 'the', 'sky'),\n",
       " ('in', 'the', 'sun'),\n",
       " ('in', 'the', 'sunshine'),\n",
       " ('in', 'the', 'wall'),\n",
       " ('in', 'your', 'eyes'),\n",
       " ('is', 'beckoning', 'And'),\n",
       " ('is', 'no', 'other'),\n",
       " ('it', \"'s\", 'a'),\n",
       " ('it', \"'s\", 'not'),\n",
       " ('it', 'another', 'way'),\n",
       " ('it', 'fly', 'Point'),\n",
       " ('know', 'I', \"'m\"),\n",
       " ('know', 'you', 'ca'),\n",
       " ('land', 'in', 'silence'),\n",
       " ('last', 'scream', 'old'),\n",
       " ('last', 'summer', ','),\n",
       " ('laugh', 'But', 'you'),\n",
       " ('layne', ',', 'arnold'),\n",
       " ('leave', 'us', 'here'),\n",
       " ('limbs', 'for', 'a'),\n",
       " ('limpid', 'green', ','),\n",
       " ('little', 'bit', 'Before'),\n",
       " ('little', 'bit', 'Rest'),\n",
       " ('little', 'more', 'room'),\n",
       " ('lose', 'your', 'mind'),\n",
       " ('man', 'on', 'the'),\n",
       " ('may', 'See', 'Emily'),\n",
       " ('me', 'Hey', 'you'),\n",
       " ('me', 'at', 'the'),\n",
       " ('mind', 'and', 'play'),\n",
       " ('more', 'room', '.'),\n",
       " (\"n't\", 'delay', 'You'),\n",
       " (\"n't\", 'touch', 'the'),\n",
       " ('nah', 'nah', 'nah'),\n",
       " ('nearly', 'a', 'good'),\n",
       " ('nearly', 'a', 'laugh'),\n",
       " ('nearly', 'a', 'treat'),\n",
       " ('need', 'a', 'dirty'),\n",
       " ('need', 'a', 'little'),\n",
       " ('nice', 'It', 'would'),\n",
       " ('nice', 'To', 'meet'),\n",
       " ('night', 'birds', 'calling'),\n",
       " ('night', 'is', 'beckoning'),\n",
       " ('no', 'other', 'day'),\n",
       " ('octopus', 'ride', '!'),\n",
       " ('of', 'the', 'sun'),\n",
       " ('old', 'woman', 'with'),\n",
       " ('oranges', 'Apples', 'and'),\n",
       " ('really', 'a', 'cry'),\n",
       " ('scream', 'old', 'woman'),\n",
       " ('silence', 'stands', '...'),\n",
       " ('sky', 'and', 'tell'),\n",
       " ('so', 'nice', 'It'),\n",
       " ('take', 'it', 'back'),\n",
       " ('talk', 'to', 'me'),\n",
       " ('tell', 'it', 'fly'),\n",
       " ('the', 'sky', 'and'),\n",
       " ('the', 'things', 'you'),\n",
       " ('the', 'wall', '.'),\n",
       " ('thy', 'last', 'scream'),\n",
       " ('to', 'get', 'on'),\n",
       " ('two', 'to', 'know'),\n",
       " ('we', \"'ve\", 'got'),\n",
       " ('with', 'a', 'casket'),\n",
       " ('woman', 'with', 'a'),\n",
       " ('would', 'be', 'so'),\n",
       " ('you', \"'re\", 'really'),\n",
       " ('you', 'are', 'You'),\n",
       " ('you', 'ca', \"n't\"),\n",
       " ('you', 'know', 'you'),\n",
       " ('you', 'like', 'to'),\n",
       " ('you', 'want', 'to')]"
      ]
     },
     "execution_count": 30,
     "metadata": {},
     "output_type": "execute_result"
    }
   ],
   "source": [
    "sorted(finder.nbest(trigram_measures.raw_freq, 250))"
   ]
  },
  {
   "cell_type": "code",
   "execution_count": 31,
   "metadata": {},
   "outputs": [
    {
     "data": {
      "text/plain": [
       "[((\"'re\", 'nearly', 'a'), 27),\n",
       " (('I', \"'ve\", 'got'), 23),\n",
       " (('I', 'ca', \"n't\"), 21),\n",
       " (('You', \"'re\", 'nearly'), 21),\n",
       " (('you', 'ca', \"n't\"), 20),\n",
       " (('It', 'would', 'be'), 18),\n",
       " (('be', 'so', 'nice'), 18),\n",
       " (('charade', 'you', 'are'), 18),\n",
       " (('would', 'be', 'so'), 18),\n",
       " ((\"'s\", 'gon', 'na'), 17)]"
      ]
     },
     "execution_count": 31,
     "metadata": {},
     "output_type": "execute_result"
    }
   ],
   "source": [
    "sorted(finder.ngram_fd.items(), key=lambda t: (-t[1], t[0]))[:10]"
   ]
  },
  {
   "cell_type": "code",
   "execution_count": null,
   "metadata": {},
   "outputs": [],
   "source": [
    ""
   ]
  }
 ],
 "metadata": {
  "kernelspec": {
   "display_name": "Python 2",
   "language": "python",
   "name": "python2"
  },
  "language_info": {
   "codemirror_mode": {
    "name": "ipython",
    "version": 2
   },
   "file_extension": ".py",
   "mimetype": "text/x-python",
   "name": "python",
   "nbconvert_exporter": "python",
   "pygments_lexer": "ipython2",
   "version": "2.7.12"
  }
 },
 "nbformat": 4,
 "nbformat_minor": 0
}
