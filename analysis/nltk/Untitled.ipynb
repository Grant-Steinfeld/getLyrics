{
 "cells": [
  {
   "cell_type": "code",
   "execution_count": 1,
   "metadata": {
    "collapsed": true
   },
   "outputs": [],
   "source": [
    "import glob"
   ]
  },
  {
   "cell_type": "code",
   "execution_count": 4,
   "metadata": {
    "collapsed": false
   },
   "outputs": [],
   "source": [
    "f=[]\n",
    "for filename in glob.glob('/Users/grantsteinfeld/Documents/dev/CLIENTS/agentidea/grabSongCoripi/corpi/allCatted/*.txt'):\n",
    "    f.append( filename )"
   ]
  },
  {
   "cell_type": "code",
   "execution_count": 5,
   "metadata": {
    "collapsed": false
   },
   "outputs": [
    {
     "data": {
      "text/plain": [
       "['/Users/grantsteinfeld/Documents/dev/CLIENTS/agentidea/grabSongCoripi/corpi/allCatted/led_zepAll.txt',\n",
       " '/Users/grantsteinfeld/Documents/dev/CLIENTS/agentidea/grabSongCoripi/corpi/allCatted/michael_jacksonAll.txt',\n",
       " '/Users/grantsteinfeld/Documents/dev/CLIENTS/agentidea/grabSongCoripi/corpi/allCatted/pink_floydAll.txt',\n",
       " '/Users/grantsteinfeld/Documents/dev/CLIENTS/agentidea/grabSongCoripi/corpi/allCatted/princeAll.txt']"
      ]
     },
     "execution_count": 5,
     "metadata": {},
     "output_type": "execute_result"
    }
   ],
   "source": [
    "f\n"
   ]
  },
  {
   "cell_type": "code",
   "execution_count": 6,
   "metadata": {
    "collapsed": true
   },
   "outputs": [],
   "source": [
    "allFileName = '/Users/grantsteinfeld/Documents/dev/CLIENTS/agentidea/grabSongCoripi/corpi/allSongs.txt'"
   ]
  },
  {
   "cell_type": "code",
   "execution_count": null,
   "metadata": {
    "collapsed": true
   },
   "outputs": [],
   "source": [
    "for ff in f:\n",
    "    with open(allFileName, 'a') as af:\n",
    "        with open(ff, 'r') as rf:\n",
    "            af.write('[{}]'.format(ff))"
   ]
  }
 ],
 "metadata": {
  "kernelspec": {
   "display_name": "Python 2",
   "language": "python",
   "name": "python2"
  },
  "language_info": {
   "codemirror_mode": {
    "name": "ipython",
    "version": 2
   },
   "file_extension": ".py",
   "mimetype": "text/x-python",
   "name": "python",
   "nbconvert_exporter": "python",
   "pygments_lexer": "ipython2",
   "version": "2.7.12"
  }
 },
 "nbformat": 4,
 "nbformat_minor": 0
}
