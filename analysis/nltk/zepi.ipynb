{
 "cells": [
  {
   "cell_type": "code",
   "execution_count": 1,
   "metadata": {
    "collapsed": true
   },
   "outputs": [],
   "source": [
    "import nltk\n",
    "from nltk import word_tokenize\n",
    "from nltk.probability import FreqDist\n",
    "from nltk.collocations import *\n"
   ]
  },
  {
   "cell_type": "code",
   "execution_count": 2,
   "metadata": {
    "collapsed": false
   },
   "outputs": [
    {
     "name": "stdout",
     "output_type": "stream",
     "text": [
      "http://www.nltk.org/howto/collocations.html\n"
     ]
    }
   ],
   "source": [
    "print 'http://www.nltk.org/howto/collocations.html'"
   ]
  },
  {
   "cell_type": "code",
   "execution_count": 3,
   "metadata": {
    "collapsed": false
   },
   "outputs": [],
   "source": [
    "f = open('../../corpi/allCatted/led_zepAll.txt')"
   ]
  },
  {
   "cell_type": "code",
   "execution_count": 4,
   "metadata": {
    "collapsed": true
   },
   "outputs": [],
   "source": [
    "raw = f.read()\n"
   ]
  },
  {
   "cell_type": "code",
   "execution_count": 5,
   "metadata": {
    "collapsed": false
   },
   "outputs": [],
   "source": [
    "raw = raw.decode('utf-8')"
   ]
  },
  {
   "cell_type": "code",
   "execution_count": 6,
   "metadata": {
    "collapsed": false
   },
   "outputs": [],
   "source": [
    "tokens = word_tokenize(raw)"
   ]
  },
  {
   "cell_type": "code",
   "execution_count": 7,
   "metadata": {
    "collapsed": false
   },
   "outputs": [],
   "source": [
    "finder = BigramCollocationFinder.from_words(tokens)"
   ]
  },
  {
   "cell_type": "code",
   "execution_count": 8,
   "metadata": {
    "collapsed": false
   },
   "outputs": [
    {
     "data": {
      "text/plain": [
       "<nltk.collocations.BigramCollocationFinder at 0x1042498d0>"
      ]
     },
     "execution_count": 8,
     "metadata": {},
     "output_type": "execute_result"
    }
   ],
   "source": [
    "finder"
   ]
  },
  {
   "cell_type": "code",
   "execution_count": 9,
   "metadata": {
    "collapsed": false
   },
   "outputs": [
    {
     "data": {
      "text/plain": [
       "[u'Candy',\n",
       " u'Store',\n",
       " u'Rock',\n",
       " u'lyrics',\n",
       " u'I',\n",
       " u'caught',\n",
       " u'you',\n",
       " u'smiling',\n",
       " u'at',\n",
       " u'me']"
      ]
     },
     "execution_count": 9,
     "metadata": {},
     "output_type": "execute_result"
    }
   ],
   "source": [
    "tokens[:10]"
   ]
  },
  {
   "cell_type": "code",
   "execution_count": 10,
   "metadata": {
    "collapsed": true
   },
   "outputs": [],
   "source": [
    "text = nltk.Text(tokens)"
   ]
  },
  {
   "cell_type": "code",
   "execution_count": 11,
   "metadata": {
    "collapsed": false
   },
   "outputs": [
    {
     "data": {
      "text/plain": [
       "nltk.text.Text"
      ]
     },
     "execution_count": 11,
     "metadata": {},
     "output_type": "execute_result"
    }
   ],
   "source": [
    "type(text)"
   ]
  },
  {
   "cell_type": "code",
   "execution_count": 12,
   "metadata": {
    "collapsed": false
   },
   "outputs": [
    {
     "data": {
      "text/plain": [
       "[u'it',\n",
       " u',',\n",
       " u'mama',\n",
       " u',',\n",
       " u'save',\n",
       " u'me',\n",
       " u'a',\n",
       " u'slice',\n",
       " u'Your',\n",
       " u'custard',\n",
       " u'pie',\n",
       " u',',\n",
       " u'yeah',\n",
       " u',',\n",
       " u'I',\n",
       " u'declare',\n",
       " u'you',\n",
       " u\"'re\",\n",
       " u'sweet',\n",
       " u'and',\n",
       " u'nice',\n",
       " u'like',\n",
       " u'your',\n",
       " u'custard',\n",
       " u'pie',\n",
       " u'When',\n",
       " u'you',\n",
       " u'cut',\n",
       " u'it',\n",
       " u',',\n",
       " u'mama',\n",
       " u'...',\n",
       " u'mama',\n",
       " u',',\n",
       " u'please',\n",
       " u'save',\n",
       " u'me',\n",
       " u'a']"
      ]
     },
     "execution_count": 12,
     "metadata": {},
     "output_type": "execute_result"
    }
   ],
   "source": [
    "text[1024:1062]"
   ]
  },
  {
   "cell_type": "code",
   "execution_count": 13,
   "metadata": {
    "collapsed": false
   },
   "outputs": [
    {
     "name": "stdout",
     "output_type": "stream",
     "text": [
      "little bit; Gallows Pole; shake 'em; 've got; sugar mama; turned away;\n",
      "people turned; custard pie; n't know; total disgrace; 'bout love; n't\n",
      "care; Poor Tom; found Light; one thing; ten years; Sugar mama; could\n",
      "n't; willow tree; mad mad\n"
     ]
    }
   ],
   "source": [
    "text.collocations()\n"
   ]
  },
  {
   "cell_type": "code",
   "execution_count": 15,
   "metadata": {
    "collapsed": false
   },
   "outputs": [
    {
     "name": "stdout",
     "output_type": "stream",
     "text": [
      "Displaying 11 of 11 matches:\n",
      "on our way it 's darkest night , The road we choose is always right so fine . \n",
      "ong . In the light you will find the road . You will find the road Oh , did yo\n",
      "ll find the road . You will find the road Oh , did you ever believe that I cou\n",
      "ive you it is from every bend in the road Now listen to me Oh , whoa-whoa , as\n",
      "go on In the light you will find the road Though the winds of change may blow \n",
      "any times I 've gazed along the open road Many times I 've lied , and many tim\n",
      " Many , many men ca n't see the open road Many is a word that only leaves you \n",
      "un There 's still time to change the road you 're on . And it makes me wonder \n",
      "ng wind . And as we wind on down the road Our shadows taller than our soul . T\n",
      "her trim I like the way you hold the road , mama , it ai n't no sin Talkin ' '\n",
      "r on our way it 's darkest night The road we choose is always right , so fine \n"
     ]
    }
   ],
   "source": [
    "text.concordance(\"road\")"
   ]
  },
  {
   "cell_type": "code",
   "execution_count": 28,
   "metadata": {
    "collapsed": false
   },
   "outputs": [
    {
     "data": {
      "text/plain": [
       "nltk.probability.FreqDist"
      ]
     },
     "execution_count": 28,
     "metadata": {},
     "output_type": "execute_result"
    }
   ],
   "source": [
    "FreqDist"
   ]
  },
  {
   "cell_type": "code",
   "execution_count": 29,
   "metadata": {
    "collapsed": true
   },
   "outputs": [],
   "source": [
    "fdist = FreqDist()\n"
   ]
  },
  {
   "cell_type": "code",
   "execution_count": 30,
   "metadata": {
    "collapsed": false
   },
   "outputs": [],
   "source": [
    "fdist = FreqDist(word.lower() for word in word_tokenize(raw) if len(word)>9 and  not word.startswith('title'))"
   ]
  },
  {
   "cell_type": "code",
   "execution_count": 31,
   "metadata": {
    "collapsed": false
   },
   "outputs": [
    {
     "data": {
      "text/plain": [
       "[(u'everything', 12),\n",
       " (u'understand', 10),\n",
       " (u'frightened', 6),\n",
       " (u'comfortably', 6),\n",
       " (u'underground', 6),\n",
       " (u'unreleased', 5),\n",
       " (u'remembering', 5),\n",
       " (u'supermarket', 4),\n",
       " (u\"ev'rything\", 4),\n",
       " (u'battleground', 3),\n",
       " (u'whitehouse', 3),\n",
       " (u'kingfisher', 3),\n",
       " (u'flickering', 3),\n",
       " (u'irresistible', 3),\n",
       " (u'tongue-tied', 3),\n",
       " (u'disappears', 3),\n",
       " (u'earth-bound', 3),\n",
       " (u'chattering', 2),\n",
       " (u'photographs', 2),\n",
       " (u'government', 2),\n",
       " (u'pretending', 2),\n",
       " (u'hoooooooooray', 2),\n",
       " (u'surrounded', 2),\n",
       " (u'nightmares', 2),\n",
       " (u'dedication', 2),\n",
       " (u'instrumental', 2),\n",
       " (u'accomplished', 2),\n",
       " (u'gingerbread', 2),\n",
       " (u'desparation', 2),\n",
       " (u'confronted', 2),\n",
       " (u'themselves', 2),\n",
       " (u'sweetheart', 2),\n",
       " (u'churchyard', 2),\n",
       " (u'undergrowth', 2),\n",
       " (u'girlfriends', 2),\n",
       " (u'misunderstands', 2),\n",
       " (u'collecting', 2),\n",
       " (u'information', 2),\n",
       " (u'straight..into', 2),\n",
       " (u'southampton', 2),\n",
       " (u'exceedingly', 2),\n",
       " (u'everywhere', 2),\n",
       " (u'grasshoppers', 2),\n",
       " (u'background', 1),\n",
       " (u'knees.well', 1),\n",
       " (u'glitterati', 1),\n",
       " (u'thesegotta', 1),\n",
       " (u'capitulate', 1),\n",
       " (u'helicopters', 1),\n",
       " (u'expendable', 1)]"
      ]
     },
     "execution_count": 31,
     "metadata": {},
     "output_type": "execute_result"
    }
   ],
   "source": [
    "fdist.most_common(50)\n"
   ]
  },
  {
   "cell_type": "code",
   "execution_count": 32,
   "metadata": {
    "collapsed": false
   },
   "outputs": [
    {
     "data": {
      "text/plain": [
       "u'everything'"
      ]
     },
     "execution_count": 32,
     "metadata": {},
     "output_type": "execute_result"
    }
   ],
   "source": [
    "fdist.max()"
   ]
  },
  {
   "cell_type": "code",
   "execution_count": 33,
   "metadata": {
    "collapsed": false
   },
   "outputs": [],
   "source": [
    "from nltk.collocations import *"
   ]
  },
  {
   "cell_type": "code",
   "execution_count": 34,
   "metadata": {
    "collapsed": true
   },
   "outputs": [],
   "source": [
    "bigram_measures = nltk.collocations.BigramAssocMeasures()"
   ]
  },
  {
   "cell_type": "code",
   "execution_count": 35,
   "metadata": {
    "collapsed": true
   },
   "outputs": [],
   "source": [
    "trigram_measures = nltk.collocations.TrigramAssocMeasures()"
   ]
  },
  {
   "cell_type": "code",
   "execution_count": 23,
   "metadata": {
    "collapsed": false
   },
   "outputs": [
    {
     "data": {
      "text/plain": [
       "[(u'American', u'tour'),\n",
       " (u'Anzio', u'bridgehead'),\n",
       " (u'Astronomy', u'Domine'),\n",
       " (u'Brain', u'Damage'),\n",
       " (u'CALL', u'THE'),\n",
       " (u'Catfish', u'dappled'),\n",
       " (u'Chalk', u'underfoot'),\n",
       " (u'Chapter', u'24'),\n",
       " (u'Childish', u'bangles'),\n",
       " (u'Clare', u'Torry'),\n",
       " (u'Command', u'Took'),\n",
       " (u'Company', u'C.'),\n",
       " (u'Condition', u'grounded'),\n",
       " (u'Crisp', u'flax'),\n",
       " (u'Crumbling', u'Land'),\n",
       " (u'Current', u'Bun'),\n",
       " (u'Daddys', u'Flown'),\n",
       " (u'Daily', u'Standard'),\n",
       " (u'David', u'Gilmour/Polly'),\n",
       " (u'Different', u'Ones'),\n",
       " (u'Dogfish', u'puffing'),\n",
       " (u'Family', u'Album'),\n",
       " (u'Fat', u'Old'),\n",
       " (u'Fletcher', u'Memorial'),\n",
       " (u'Furry', u'Animals'),\n",
       " (u'Fusiliers', u'Company'),\n",
       " (u'George', u'Sent'),\n",
       " (u'Gigolo', u'Aunt'),\n",
       " (u'Gilmour/Polly', u'Samson'),\n",
       " (u'Grantchester', u'Meadows'),\n",
       " (u'Grimble', u'Grumble'),\n",
       " (u'Grows', u'sharper'),\n",
       " (u'Happiest', u'Days'),\n",
       " (u'Hendrix', u'perm'),\n",
       " (u'Invisible', u'transfers'),\n",
       " (u'Jennifer', u'Gentle'),\n",
       " (u'Jugband', u'Blues'),\n",
       " (u'June', u'bloom'),\n",
       " (u'Late', u'Night'),\n",
       " (u'Lear', u'jet'),\n",
       " (u'Looks', u'allright'),\n",
       " (u'Manuel', u'Leaf'),\n",
       " (u'March', u'cheerfully'),\n",
       " (u'Meal', u'bakery'),\n",
       " (u'Morning', u'dues'),\n",
       " (u'Number', u'51'),\n",
       " (u'Oooooh', u'aah'),\n",
       " (u'Paranoid', u'Eyes'),\n",
       " (u'Poles', u'Apart'),\n",
       " (u'Possible', u'Pasts'),\n",
       " (u'Race', u'rats'),\n",
       " (u'Roman', u'Meal'),\n",
       " (u'Royal', u'Fusiliers'),\n",
       " (u'Selling', u'colored'),\n",
       " (u'Several', u'Species'),\n",
       " (u'Small', u'Furry'),\n",
       " (u'Southampton', u'Dock'),\n",
       " (u'Stand', u'Still'),\n",
       " (u'Still', u'Laddie'),\n",
       " (u'Suspended', u'animation'),\n",
       " (u'THE', u'SCHOOLMASTER'),\n",
       " (u'Three', u'Different'),\n",
       " (u'Thunderbird', u'shale'),\n",
       " (u'Tigers', u'Broke'),\n",
       " (u'Within', u'inches'),\n",
       " (u'Ye', u'rotten'),\n",
       " (u'Young', u'Lust'),\n",
       " (u'accord', u'using'),\n",
       " (u'adventure', u'Amidst'),\n",
       " (u'albatross', u'hangs'),\n",
       " (u'aloud', u'Extinguished'),\n",
       " (u'amazing', u'powers'),\n",
       " (u'anonymous', u'latin'),\n",
       " (u'armadillo', u'Find'),\n",
       " (u'avengers', u'March'),\n",
       " (u'awash', u'An'),\n",
       " (u'awayPay', u'dayMake'),\n",
       " (u'awfully', u'considerate'),\n",
       " (u'beads', u'Rock'),\n",
       " (u'bled', u'Pain'),\n",
       " (u'bloom', u'Music'),\n",
       " (u'board', u'Everyday'),\n",
       " (u'bombGet', u'awayPay'),\n",
       " (u'bread', u'Underfed'),\n",
       " (u'building', u'ships'),\n",
       " (u'bullet', u'proof'),\n",
       " (u'burnie', u'crew'),\n",
       " (u'buttercups', u'cup'),\n",
       " (u'candle', u'dies'),\n",
       " (u'cattle', u'trucks'),\n",
       " (u'ceaseless', u'murmuring'),\n",
       " (u'ceiling', u'Living'),\n",
       " (u'chamber', u'reserved'),\n",
       " (u'cheap', u'hotel'),\n",
       " (u'circuit', u't.v'),\n",
       " (u'class', u'traveling'),\n",
       " (u'clickHold', u'onOh'),\n",
       " (u'clickity', u'click'),\n",
       " (u'cockleshell', u'shattens'),\n",
       " (u'colonial', u'wasters')]"
      ]
     },
     "execution_count": 23,
     "metadata": {},
     "output_type": "execute_result"
    }
   ],
   "source": [
    "finder.nbest(bigram_measures.pmi, 100)"
   ]
  },
  {
   "cell_type": "code",
   "execution_count": 36,
   "metadata": {
    "collapsed": true
   },
   "outputs": [],
   "source": [
    "finder.apply_freq_filter(3)"
   ]
  },
  {
   "cell_type": "code",
   "execution_count": 37,
   "metadata": {
    "collapsed": false
   },
   "outputs": [
    {
     "data": {
      "text/plain": [
       "[(u'Ancient', u'bonds'),\n",
       " (u'Cast', u'aside'),\n",
       " (u'Change', u'returns'),\n",
       " (u'Cirrus', u'Minor'),\n",
       " (u'Narrow', u'Way'),\n",
       " (u'earth-bound', u'misfit'),\n",
       " (u'returns', u'success'),\n",
       " (u'sliding', u'unseen'),\n",
       " (u'currant', u'bun'),\n",
       " (u'supermarket', u'stores'),\n",
       " (u'quick', u'grin'),\n",
       " (u'success', u'Going'),\n",
       " (u'Gravy', u'Train'),\n",
       " (u'scrubbing', u'bubbles'),\n",
       " (u'velvet', u'trousers'),\n",
       " (u'Magic', u'visions'),\n",
       " (u'kingfisher', u'flashing'),\n",
       " (u'Almost', u'worth'),\n",
       " (u'Blam', u'blam'),\n",
       " (u'Ice', u'cream'),\n",
       " (u'Stolen', u'moments'),\n",
       " (u'ah', u'ooh'),\n",
       " (u'barley', u'grows'),\n",
       " (u'climbing', u'higher'),\n",
       " (u'gigolo', u'aunt'),\n",
       " (u'hot', u'stuff'),\n",
       " (u'rat', u'bag'),\n",
       " (u'madcap', u'laughed'),\n",
       " (u'Pig', u'stain'),\n",
       " (u'human', u'race'),\n",
       " (u'king', u'bee'),\n",
       " (u'Action', u'brings'),\n",
       " (u'Whisper', u'low'),\n",
       " (u'fat', u'chin'),\n",
       " (u'gilded', u'cage'),\n",
       " (u'musk', u'winds'),\n",
       " (u'arms', u'madly'),\n",
       " (u'casket', u'Blam'),\n",
       " (u'Bus', u'stop'),\n",
       " (u'circling', u'skies'),\n",
       " (u'skies', u'Tongue-tied'),\n",
       " (u'stop', u'rat'),\n",
       " (u'changing', u'sides'),\n",
       " (u'dog', u'fox'),\n",
       " (u'floating', u'softly'),\n",
       " (u'visions', u'stirring'),\n",
       " (u'icy', u'waters'),\n",
       " (u'dreamboat', u'queen'),\n",
       " (u'pig', u'bin'),\n",
       " (u'track', u\"'cause\"),\n",
       " (u'waters', u'underground'),\n",
       " (u'well', u'heeled'),\n",
       " (u'Oooh', u'Ma'),\n",
       " (u'Oooh', u'Pa'),\n",
       " (u'till', u'tomorrow'),\n",
       " (u'aching', u'limbs'),\n",
       " (u'moments', u'floating'),\n",
       " (u'music', u'played'),\n",
       " (u'unseen', u'beneath'),\n",
       " (u'without', u'error'),\n",
       " (u'crazy', u'diamond'),\n",
       " (u'arnold', u'layne'),\n",
       " (u'Flickering', u'between'),\n",
       " (u'Saying', u'``'),\n",
       " (u'burning', u'gladly'),\n",
       " (u'special', u'thing'),\n",
       " (u'Scream', u'thy'),\n",
       " (u'evil', u'tide'),\n",
       " (u'fours', u'Scream'),\n",
       " (u'new', u'Compared'),\n",
       " (u'ship', u'smoke'),\n",
       " (u'heavenly', u'ride'),\n",
       " (u'Come', u'gurgling'),\n",
       " (u'heeled', u'big'),\n",
       " (u'octopus', u'ride'),\n",
       " (u'Ma', u'Oooh'),\n",
       " (u'Summer', u'evening'),\n",
       " (u'golden', u'hair'),\n",
       " (u'King', u'Bee'),\n",
       " (u'Moon', u'glow'),\n",
       " (u'Swan', u'Lee'),\n",
       " (u'Bridges', u'burning'),\n",
       " (u'burning', u'flames'),\n",
       " (u'second', u'scene'),\n",
       " (u'seen', u'Only'),\n",
       " (u'bit', u'Before'),\n",
       " (u'even', u'less'),\n",
       " (u'pig', u'mine'),\n",
       " (u'ta', u'stem'),\n",
       " (u'distant', u'ship'),\n",
       " (u'quack', u'quack'),\n",
       " (u'Arnold', u'Layne'),\n",
       " (u'flames', u'rise'),\n",
       " (u'Warm', u'glow'),\n",
       " (u'nah', u'nah'),\n",
       " (u'Corporal', u'Clegg'),\n",
       " (u'Mrs.', u'Clegg'),\n",
       " (u'big', u'wheel'),\n",
       " (u'bit', u'Rest'),\n",
       " (u'baby', u'lemonade')]"
      ]
     },
     "execution_count": 37,
     "metadata": {},
     "output_type": "execute_result"
    }
   ],
   "source": [
    "finder.nbest(bigram_measures.pmi, 100) "
   ]
  },
  {
   "cell_type": "code",
   "execution_count": 38,
   "metadata": {
    "collapsed": true
   },
   "outputs": [],
   "source": [
    "finder.apply_freq_filter(2)"
   ]
  },
  {
   "cell_type": "code",
   "execution_count": 39,
   "metadata": {
    "collapsed": false
   },
   "outputs": [],
   "source": [
    "ignored_words = nltk.corpus.stopwords.words('english')\n",
    "finder.apply_word_filter(lambda w: len(w) < 3 or w.lower() in ignored_words)"
   ]
  },
  {
   "cell_type": "code",
   "execution_count": 40,
   "metadata": {
    "collapsed": true
   },
   "outputs": [],
   "source": [
    "finder.apply_word_filter(lambda w: len(w) < 3 or w.lower() in ignored_words)"
   ]
  },
  {
   "cell_type": "code",
   "execution_count": 41,
   "metadata": {
    "collapsed": false
   },
   "outputs": [
    {
     "data": {
      "text/plain": [
       "[(u\"'ve\", u'got'),\n",
       " (u\"'re\", u'nearly'),\n",
       " (u'Arnold', u'Layne'),\n",
       " (u'silence', u'stands'),\n",
       " (u'King', u'Bee'),\n",
       " (u'little', u'bit'),\n",
       " (u'nah', u'nah'),\n",
       " (u'Swan', u'Lee'),\n",
       " (u'Corporal', u'Clegg'),\n",
       " (u'arnold', u'layne'),\n",
       " (u'Scream', u'thy'),\n",
       " (u'little', u'girl'),\n",
       " (u'Mrs.', u'Clegg'),\n",
       " (u'icy', u'waters'),\n",
       " (u'thy', u'last'),\n",
       " (u'Oooo', u'Babe'),\n",
       " (u'gigolo', u'aunt'),\n",
       " (u'one', u'world'),\n",
       " (u'night', u'long'),\n",
       " (u'last', u'scream'),\n",
       " (u'oranges', u'Apples'),\n",
       " (u'See', u'Emily'),\n",
       " (u'waters', u'underground'),\n",
       " (u'limpid', u'green'),\n",
       " (u'aching', u'limbs'),\n",
       " (u'scream', u'old'),\n",
       " (u'octopus', u'ride'),\n",
       " (u'Moon', u'glow'),\n",
       " (u'fly', u'Point'),\n",
       " (u'Vegetable', u'man'),\n",
       " (u'old', u'woman'),\n",
       " (u'Warm', u'glow'),\n",
       " (u'time', u'Cymbaline'),\n",
       " (u'bit', u'Rest'),\n",
       " (u'Free', u'games'),\n",
       " (u'birds', u'calling'),\n",
       " (u'play', u'Free'),\n",
       " (u'currant', u'bun'),\n",
       " (u'supermarket', u'stores'),\n",
       " (u'Buzzing', u'around'),\n",
       " (u'baby', u'lemonade'),\n",
       " (u'Gravy', u'Train'),\n",
       " (u'scrubbing', u'bubbles'),\n",
       " (u'velvet', u'trousers'),\n",
       " (u'may', u'See'),\n",
       " (u'last', u'summer'),\n",
       " (u'hide', u'hide'),\n",
       " (u'Ooo', u'Babe'),\n",
       " (u'Emily', u'play'),\n",
       " (u'Blam', u'blam'),\n",
       " (u'Ice', u'cream'),\n",
       " (u'Always', u'need'),\n",
       " (u\"'re\", u'really'),\n",
       " (u'Swan', u'lee'),\n",
       " (u'king', u'bee'),\n",
       " (u'madcap', u'laughed'),\n",
       " (u'stands', u'...'),\n",
       " (u'meet', u'sometime'),\n",
       " (u'arms', u'madly'),\n",
       " (u'casket', u'Blam'),\n",
       " (u\"n't\", u'touch'),\n",
       " (u'better', u'run'),\n",
       " (u'till', u'tomorrow'),\n",
       " (u'one', u'day'),\n",
       " (u'feeling', u'frail'),\n",
       " (u'crazy', u'diamond'),\n",
       " (u'far', u'away'),\n",
       " (u'fours', u'Scream'),\n",
       " (u'night', u'birds'),\n",
       " (u'heavenly', u'ride'),\n",
       " (u'eyes', u'beyond'),\n",
       " (u'Ancient', u'bonds'),\n",
       " (u'Cast', u'aside'),\n",
       " (u'Change', u'returns'),\n",
       " (u'Cirrus', u'Minor'),\n",
       " (u'Narrow', u'Way'),\n",
       " (u'earth-bound', u'misfit'),\n",
       " (u'returns', u'success'),\n",
       " (u'sliding', u'unseen'),\n",
       " (u\"n't\", u'delay'),\n",
       " (u\"n't\", u'explain'),\n",
       " (u'ship', u'smoke'),\n",
       " (u'takes', u'two'),\n",
       " (u'distant', u'ship'),\n",
       " (u'quack', u'quack'),\n",
       " (u'quick', u'grin'),\n",
       " (u'success', u'Going'),\n",
       " (u'high', u'time'),\n",
       " (u'girl', u'Seen'),\n",
       " (u'lips', u'move'),\n",
       " (u'pointers', u'point'),\n",
       " (u'Please', u'leave'),\n",
       " (u'Magic', u'visions'),\n",
       " (u'kingfisher', u'flashing'),\n",
       " (u\"'ll\", u'lose'),\n",
       " (u'madly', u'old'),\n",
       " (u'Almost', u'worth'),\n",
       " (u'Stolen', u'moments'),\n",
       " (u'barley', u'grows'),\n",
       " (u'climbing', u'higher')]"
      ]
     },
     "execution_count": 41,
     "metadata": {},
     "output_type": "execute_result"
    }
   ],
   "source": [
    "finder.nbest(bigram_measures.likelihood_ratio, 100)"
   ]
  },
  {
   "cell_type": "code",
   "execution_count": 42,
   "metadata": {
    "collapsed": true
   },
   "outputs": [],
   "source": [
    "#tri grams\n",
    "finder = TrigramCollocationFinder.from_words(tokens)"
   ]
  },
  {
   "cell_type": "code",
   "execution_count": 43,
   "metadata": {
    "collapsed": true
   },
   "outputs": [],
   "source": [
    "scored = finder.score_ngrams(trigram_measures.raw_freq)"
   ]
  },
  {
   "cell_type": "code",
   "execution_count": 44,
   "metadata": {
    "collapsed": false
   },
   "outputs": [
    {
     "data": {
      "text/plain": [
       "True"
      ]
     },
     "execution_count": 44,
     "metadata": {},
     "output_type": "execute_result"
    }
   ],
   "source": [
    "set(trigram for trigram, score in scored) == set(nltk.trigrams(tokens))"
   ]
  },
  {
   "cell_type": "code",
   "execution_count": 45,
   "metadata": {
    "collapsed": false
   },
   "outputs": [
    {
     "data": {
      "text/plain": [
       "[(u'!', u'...', u'..'),\n",
       " (u\"'ll\", u'be', u'no'),\n",
       " (u\"'ll\", u'lose', u'your'),\n",
       " (u\"'m\", u'a', u'King'),\n",
       " (u\"'m\", u'young', u'and'),\n",
       " (u\"'re\", u'gon', u'na'),\n",
       " (u\"'re\", u'nearly', u'a'),\n",
       " (u\"'re\", u'really', u'a'),\n",
       " (u\"'s\", u'gon', u'na'),\n",
       " (u\"'s\", u'high', u'time'),\n",
       " (u\"'s\", u'not', u'the'),\n",
       " (u\"'s\", u'try', u'it'),\n",
       " (u\"'ve\", u'got', u'a'),\n",
       " (u\"'ve\", u'got', u'to'),\n",
       " (u'(', u'Barrett', u')'),\n",
       " (u',', u'Always', u'need'),\n",
       " (u',', u'Arnold', u'Layne'),\n",
       " (u',', u'Do', u\"n't\"),\n",
       " (u',', u'I', u\"'d\"),\n",
       " (u',', u'I', u\"'m\"),\n",
       " (u',', u'Moon', u'glow'),\n",
       " (u',', u'You', u\"'re\"),\n",
       " (u',', u'ah', u'ooh'),\n",
       " (u',', u'arnold', u'layne'),\n",
       " (u',', u'charade', u'you'),\n",
       " (u',', u'crash', u','),\n",
       " (u',', u'do', u\"n't\"),\n",
       " (u',', u'do', u'you'),\n",
       " (u',', u'ha', u'ha'),\n",
       " (u',', u'it', u\"'s\"),\n",
       " (u',', u'little', u'girl'),\n",
       " (u',', u'should', u'I'),\n",
       " (u',', u'you', u'know'),\n",
       " (u'-', u'a', u'-'),\n",
       " (u'-', u'away', u'-'),\n",
       " (u'-', u'be', u'-'),\n",
       " (u'.', u'.', u'The'),\n",
       " (u'.', u'And', u'if'),\n",
       " (u'.', u'I', u\"'ve\"),\n",
       " (u'.', u'If', u'I'),\n",
       " (u'.', u'Momma', u\"'s\"),\n",
       " (u'.', u'Oooo', u'Babe'),\n",
       " (u'.', u'Warm', u'glow'),\n",
       " (u'.', u'We', u\"'re\"),\n",
       " (u'.', u'You', u\"'re\"),\n",
       " (u'..', u'!', u'...'),\n",
       " (u'...', u'..', u'!'),\n",
       " (u'?', u'And', u'did'),\n",
       " (u'?', u'Mother', u','),\n",
       " (u'All', u'in', u'all'),\n",
       " (u'All', u'that', u'you'),\n",
       " (u'Always', u'need', u'a'),\n",
       " (u'And', u'I', u\"'ve\"),\n",
       " (u'And', u'I', u'am'),\n",
       " (u'And', u'if', u'you'),\n",
       " (u'And', u'no', u'one'),\n",
       " (u'And', u'you', u'know'),\n",
       " (u'Apples', u'and', u'oranges'),\n",
       " (u'Arnold', u'Layne', u','),\n",
       " (u'Before', u'you', u'the'),\n",
       " (u'But', u'you', u\"'re\"),\n",
       " (u'But', u'you', u'ca'),\n",
       " (u'Buzzing', u'around', u'your'),\n",
       " (u'Can', u'buzz', u'all'),\n",
       " (u'Close', u'our', u'eyes'),\n",
       " (u'Free', u'games', u'for'),\n",
       " (u'Hey', u'ho', u','),\n",
       " (u'Hey', u'you', u'!'),\n",
       " (u'I', u\"'d\", u'be'),\n",
       " (u'I', u\"'m\", u'a'),\n",
       " (u'I', u\"'m\", u'feeling'),\n",
       " (u'I', u\"'m\", u'young'),\n",
       " (u'I', u\"'ve\", u'got'),\n",
       " (u'I', u'ca', u\"n't\"),\n",
       " (u'I', u'do', u\"n't\"),\n",
       " (u'I', u'need', u'a'),\n",
       " (u'I', u'were', u'a'),\n",
       " (u'If', u'I', u'were'),\n",
       " (u'Is', u\"n't\", u'it'),\n",
       " (u'It', u\"'s\", u'not'),\n",
       " (u'It', u'would', u'be'),\n",
       " (u'Layne', u',', u'Arnold'),\n",
       " (u'Let', u\"'s\", u'try'),\n",
       " (u'Lime', u'and', u'limpid'),\n",
       " (u'Mary', u'you', u\"'re\"),\n",
       " (u'Momma', u\"'s\", u'gon'),\n",
       " (u'Moon', u'glow', u','),\n",
       " (u'Mother', u',', u'do'),\n",
       " (u'Mother', u',', u'should'),\n",
       " (u'Mrs.', u'Clegg', u','),\n",
       " (u'Oooo', u'Babe', u'.'),\n",
       " (u'Ooooo', u'I', u'need'),\n",
       " (u'Please', u'leave', u'us'),\n",
       " (u'Point', u'me', u'at'),\n",
       " (u'Rest', u'your', u'aching'),\n",
       " (u'Scream', u'thy', u'last'),\n",
       " (u'See', u'Emily', u'play'),\n",
       " (u'The', u'land', u'in'),\n",
       " (u'There', u\"'ll\", u'be'),\n",
       " (u'There', u'is', u'no'),\n",
       " (u'To', u'buzz', u'all'),\n",
       " (u'Warm', u'glow', u','),\n",
       " (u'Well', u',', u'I'),\n",
       " (u'What', u'are', u'you'),\n",
       " (u'What', u'do', u'you'),\n",
       " (u'Why', u'ca', u\"n't\"),\n",
       " (u'Would', u'you', u'like'),\n",
       " (u'You', u\"'ll\", u'lose'),\n",
       " (u'You', u\"'re\", u'nearly'),\n",
       " (u'You', u'got', u'ta'),\n",
       " (u'You', u'hear', u'the'),\n",
       " (u'a', u'-', u'be'),\n",
       " (u'a', u'-', u'drink'),\n",
       " (u'a', u'King', u'Bee'),\n",
       " (u'a', u'cry', u'.'),\n",
       " (u'a', u'gigolo', u'aunt'),\n",
       " (u'a', u'good', u'laugh'),\n",
       " (u'a', u'laugh', u'But'),\n",
       " (u'a', u'little', u'bit'),\n",
       " (u'a', u'little', u'more'),\n",
       " (u'able', u'To', u'buzz'),\n",
       " (u'aching', u'limbs', u'for'),\n",
       " (u'all', u'I', u'am'),\n",
       " (u'all', u'night', u'long'),\n",
       " (u'and', u'able', u'To'),\n",
       " (u'and', u'limpid', u'green'),\n",
       " (u'and', u'oranges', u'Apples'),\n",
       " (u'and', u'play', u'Free'),\n",
       " (u'and', u'tell', u'it'),\n",
       " (u'another', u'way', u'You'),\n",
       " (u'around', u'your', u'hive'),\n",
       " (u'at', u'the', u'sky'),\n",
       " (u'away', u'-', u'away'),\n",
       " (u'be', u'-', u'a'),\n",
       " (u'be', u'so', u'nice'),\n",
       " (u'beckoning', u'And', u'you'),\n",
       " (u'beyond', u'your', u'name'),\n",
       " (u'birds', u'calling', u'you'),\n",
       " (u'bit', u'Before', u'you'),\n",
       " (u'bit', u'Rest', u'your'),\n",
       " (u'buzz', u'all', u'night'),\n",
       " (u'ca', u\"n't\", u'be'),\n",
       " (u'ca', u\"n't\", u'delay'),\n",
       " (u'ca', u\"n't\", u'explain'),\n",
       " (u'ca', u\"n't\", u'touch'),\n",
       " (u'calling', u'you', u'But'),\n",
       " (u'charade', u'you', u'are'),\n",
       " (u'day', u'Let', u\"'s\"),\n",
       " (u'delay', u'You', u'hear'),\n",
       " (u'do', u\"n't\", u'know'),\n",
       " (u'do', u'you', u'feel'),\n",
       " (u'do', u'you', u'think'),\n",
       " (u'do', u'you', u'want'),\n",
       " (u'down', u'in', u'the'),\n",
       " (u'eyes', u'beyond', u'your'),\n",
       " (u'eyes', u'to', u'the'),\n",
       " (u'fly', u'Point', u'me'),\n",
       " (u'for', u'a', u'little'),\n",
       " (u'for', u'may', u'See'),\n",
       " (u'games', u'for', u'may'),\n",
       " (u'get', u'on', u'with'),\n",
       " (u'glow', u',', u'Always'),\n",
       " (u'glow', u',', u'Moon'),\n",
       " (u'go', u'little', u'girl'),\n",
       " (u'gon', u'na', u'keep'),\n",
       " (u'got', u'to', u'get'),\n",
       " (u'ha', u',', u'charade'),\n",
       " (u'ha', u'charade', u'you'),\n",
       " (u'ha', u'ha', u','),\n",
       " (u'hear', u'the', u'night'),\n",
       " (u'heart', u'of', u'the'),\n",
       " (u'here', u'Close', u'our'),\n",
       " (u'high', u'time', u'Cymbaline'),\n",
       " (u'icy', u'waters', u'underground'),\n",
       " (u'if', u'I', u\"'m\"),\n",
       " (u'if', u'you', u'want'),\n",
       " (u'in', u'silence', u'stands'),\n",
       " (u'in', u'the', u'pig'),\n",
       " (u'in', u'the', u'sky'),\n",
       " (u'in', u'the', u'sun'),\n",
       " (u'in', u'the', u'sunshine'),\n",
       " (u'in', u'the', u'wall'),\n",
       " (u'in', u'your', u'eyes'),\n",
       " (u'is', u'beckoning', u'And'),\n",
       " (u'is', u'no', u'other'),\n",
       " (u'it', u\"'s\", u'a'),\n",
       " (u'it', u\"'s\", u'not'),\n",
       " (u'it', u'another', u'way'),\n",
       " (u'it', u'fly', u'Point'),\n",
       " (u'know', u'I', u\"'m\"),\n",
       " (u'know', u'you', u'ca'),\n",
       " (u'land', u'in', u'silence'),\n",
       " (u'last', u'scream', u'old'),\n",
       " (u'last', u'summer', u','),\n",
       " (u'laugh', u'But', u'you'),\n",
       " (u'layne', u',', u'arnold'),\n",
       " (u'leave', u'us', u'here'),\n",
       " (u'limbs', u'for', u'a'),\n",
       " (u'limpid', u'green', u','),\n",
       " (u'little', u'bit', u'Before'),\n",
       " (u'little', u'bit', u'Rest'),\n",
       " (u'little', u'more', u'room'),\n",
       " (u'lose', u'your', u'mind'),\n",
       " (u'man', u'on', u'the'),\n",
       " (u'may', u'See', u'Emily'),\n",
       " (u'me', u'Hey', u'you'),\n",
       " (u'me', u'at', u'the'),\n",
       " (u'mind', u'and', u'play'),\n",
       " (u'more', u'room', u'.'),\n",
       " (u\"n't\", u'delay', u'You'),\n",
       " (u\"n't\", u'touch', u'the'),\n",
       " (u'nah', u'nah', u'nah'),\n",
       " (u'nearly', u'a', u'good'),\n",
       " (u'nearly', u'a', u'laugh'),\n",
       " (u'nearly', u'a', u'treat'),\n",
       " (u'need', u'a', u'dirty'),\n",
       " (u'need', u'a', u'little'),\n",
       " (u'nice', u'It', u'would'),\n",
       " (u'nice', u'To', u'meet'),\n",
       " (u'night', u'birds', u'calling'),\n",
       " (u'night', u'is', u'beckoning'),\n",
       " (u'no', u'other', u'day'),\n",
       " (u'octopus', u'ride', u'!'),\n",
       " (u'of', u'the', u'sun'),\n",
       " (u'old', u'woman', u'with'),\n",
       " (u'oranges', u'Apples', u'and'),\n",
       " (u'really', u'a', u'cry'),\n",
       " (u'scream', u'old', u'woman'),\n",
       " (u'silence', u'stands', u'...'),\n",
       " (u'sky', u'and', u'tell'),\n",
       " (u'so', u'nice', u'It'),\n",
       " (u'take', u'it', u'back'),\n",
       " (u'talk', u'to', u'me'),\n",
       " (u'tell', u'it', u'fly'),\n",
       " (u'the', u'sky', u'and'),\n",
       " (u'the', u'things', u'you'),\n",
       " (u'the', u'wall', u'.'),\n",
       " (u'thy', u'last', u'scream'),\n",
       " (u'to', u'get', u'on'),\n",
       " (u'two', u'to', u'know'),\n",
       " (u'we', u\"'ve\", u'got'),\n",
       " (u'with', u'a', u'casket'),\n",
       " (u'woman', u'with', u'a'),\n",
       " (u'would', u'be', u'so'),\n",
       " (u'you', u\"'re\", u'really'),\n",
       " (u'you', u'are', u'You'),\n",
       " (u'you', u'ca', u\"n't\"),\n",
       " (u'you', u'know', u'you'),\n",
       " (u'you', u'like', u'to'),\n",
       " (u'you', u'want', u'to')]"
      ]
     },
     "execution_count": 45,
     "metadata": {},
     "output_type": "execute_result"
    }
   ],
   "source": [
    "sorted(finder.nbest(trigram_measures.raw_freq, 250))"
   ]
  },
  {
   "cell_type": "code",
   "execution_count": 46,
   "metadata": {
    "collapsed": false
   },
   "outputs": [
    {
     "data": {
      "text/plain": [
       "[((u\"'re\", u'nearly', u'a'), 27),\n",
       " ((u'I', u\"'ve\", u'got'), 23),\n",
       " ((u'I', u'ca', u\"n't\"), 21),\n",
       " ((u'You', u\"'re\", u'nearly'), 21),\n",
       " ((u'you', u'ca', u\"n't\"), 20),\n",
       " ((u'It', u'would', u'be'), 18),\n",
       " ((u'be', u'so', u'nice'), 18),\n",
       " ((u'charade', u'you', u'are'), 18),\n",
       " ((u'would', u'be', u'so'), 18),\n",
       " ((u\"'s\", u'gon', u'na'), 17)]"
      ]
     },
     "execution_count": 46,
     "metadata": {},
     "output_type": "execute_result"
    }
   ],
   "source": [
    "sorted(finder.ngram_fd.items(), key=lambda t: (-t[1], t[0]))[:10] "
   ]
  },
  {
   "cell_type": "code",
   "execution_count": null,
   "metadata": {
    "collapsed": true
   },
   "outputs": [],
   "source": []
  },
  {
   "cell_type": "code",
   "execution_count": null,
   "metadata": {
    "collapsed": true
   },
   "outputs": [],
   "source": []
  },
  {
   "cell_type": "code",
   "execution_count": null,
   "metadata": {
    "collapsed": true
   },
   "outputs": [],
   "source": []
  },
  {
   "cell_type": "code",
   "execution_count": null,
   "metadata": {
    "collapsed": true
   },
   "outputs": [],
   "source": []
  },
  {
   "cell_type": "code",
   "execution_count": null,
   "metadata": {
    "collapsed": true
   },
   "outputs": [],
   "source": []
  }
 ],
 "metadata": {
  "kernelspec": {
   "display_name": "Python 2",
   "language": "python",
   "name": "python2"
  },
  "language_info": {
   "codemirror_mode": {
    "name": "ipython",
    "version": 2
   },
   "file_extension": ".py",
   "mimetype": "text/x-python",
   "name": "python",
   "nbconvert_exporter": "python",
   "pygments_lexer": "ipython2",
   "version": "2.7.12"
  }
 },
 "nbformat": 4,
 "nbformat_minor": 0
}
